{
 "cells": [
  {
   "cell_type": "code",
   "execution_count": 1,
   "metadata": {},
   "outputs": [],
   "source": [
    "import tensorflow as tf\n",
    "assert tf.__version__.startswith('2')\n",
    "\n",
    "import os\n",
    "import numpy as np\n",
    "import matplotlib.pyplot as plt\n",
    "import scipy\n",
    "\n"
   ]
  },
  {
   "cell_type": "code",
   "execution_count": 2,
   "metadata": {},
   "outputs": [
    {
     "data": {
      "text/plain": [
       "'2.3.1'"
      ]
     },
     "execution_count": 2,
     "metadata": {},
     "output_type": "execute_result"
    }
   ],
   "source": [
    "tf.__version__"
   ]
  },
  {
   "cell_type": "code",
   "execution_count": 3,
   "metadata": {},
   "outputs": [],
   "source": [
    "_url = \"C:/Users/Rajat  Dungarwal/Desktop/Project/Dataset\""
   ]
  },
  {
   "cell_type": "code",
   "execution_count": 4,
   "metadata": {},
   "outputs": [],
   "source": [
    "IMAGE_SIZE = 224\n",
    "BATCH_SIZE = 30\n",
    "\n",
    "datagen = tf.keras.preprocessing.image.ImageDataGenerator(\n",
    "    rescale=1./255,\n",
    "    rotation_range=20,\n",
    "    shear_range=0.2,\n",
    "    zoom_range=0.2,\n",
    "    horizontal_flip=True,\n",
    "    vertical_flip=True,\n",
    "    validation_split=0.2)"
   ]
  },
  {
   "cell_type": "code",
   "execution_count": 5,
   "metadata": {},
   "outputs": [
    {
     "name": "stdout",
     "output_type": "stream",
     "text": [
      "Found 20014 images belonging to 83 classes.\n",
      "Found 4957 images belonging to 83 classes.\n"
     ]
    }
   ],
   "source": [
    "train_generator = datagen.flow_from_directory(\n",
    "    _url,\n",
    "    target_size=(IMAGE_SIZE, IMAGE_SIZE),\n",
    "    batch_size=BATCH_SIZE, \n",
    "    subset='training')\n",
    "val_generator = datagen.flow_from_directory(\n",
    "    _url,\n",
    "    target_size=(IMAGE_SIZE, IMAGE_SIZE),\n",
    "    batch_size=BATCH_SIZE, \n",
    "    subset='validation')"
   ]
  },
  {
   "cell_type": "code",
   "execution_count": 6,
   "metadata": {},
   "outputs": [
    {
     "name": "stdout",
     "output_type": "stream",
     "text": [
      "{'Airpods': 0, 'Bandages': 1, 'Bow Tie': 2, 'Bulb': 3, 'CPU': 4, 'Calender': 5, 'Ceiling fan': 6, 'Cell battery': 7, 'Computer Ram': 8, 'Cushion': 9, 'DVD Disc': 10, 'Digital Camera': 11, 'Digital Scale': 12, 'Diode': 13, 'Extension Cords': 14, 'Face Mask': 15, 'Fan Capacitor': 16, 'Floppy Disc': 17, 'Fork': 18, 'Formal Shirt': 19, 'Gas Cylinder': 20, 'Jeans': 21, 'Memory Card': 22, 'Motherboard': 23, 'Mugs': 24, 'Neck Tie': 25, 'Pencil': 26, 'Razor': 27, 'Relay Circuit': 28, 'Scale': 29, 'Sim Card': 30, 'Socks': 31, 'Speaker': 32, 'Spectacles': 33, 'T-Shirt': 34, 'Table fan': 35, 'Transistor': 36, 'Trimmer': 37, 'Trophy': 38, 'Tubelight': 39, 'Tyres': 40, 'Wallet': 41, 'Wrist Watch': 42, 'air conditioner': 43, 'badminton racket': 44, 'badminton shuttle': 45, 'baseball bat': 46, 'bean bag': 47, 'belt': 48, 'bicycle': 49, 'bottle': 50, 'box': 51, 'chair': 52, 'charger': 53, 'clock': 54, 'comb': 55, 'computer keyboard': 56, 'computer mouse': 57, 'cricket bat': 58, 'curtains': 59, 'daisy': 60, 'dandelion': 61, 'dogs': 62, 'door': 63, 'door mat': 64, 'dustbin': 65, 'dvd player': 66, 'knife': 67, 'laptop': 68, 'microwave': 69, 'pen': 70, 'refrigerator': 71, 'roses': 72, 'scissor': 73, 'shoes': 74, 'spoon': 75, 'sunflowers': 76, 'table lamp': 77, 'television': 78, 'toothbrush': 79, 'tulips': 80, 'washing machine': 81, 'writing pad': 82}\n"
     ]
    }
   ],
   "source": [
    "print (train_generator.class_indices)\n",
    "labels = '\\n'.join(sorted(train_generator.class_indices.keys()))\n",
    "\n",
    "with open('labels.txt', 'w') as f:\n",
    "  f.write(labels)"
   ]
  },
  {
   "cell_type": "code",
   "execution_count": 7,
   "metadata": {},
   "outputs": [],
   "source": [
    "IMG_SHAPE = (IMAGE_SIZE, IMAGE_SIZE, 3)\n",
    "\n",
    "# Create the base model from the pre-trained model MobileNet V2\n",
    "base_model = tf.keras.applications.MobileNetV2(input_shape=IMG_SHAPE,\n",
    "                                              include_top=False, \n",
    "                                              weights='imagenet')"
   ]
  },
  {
   "cell_type": "code",
   "execution_count": 8,
   "metadata": {},
   "outputs": [],
   "source": [
    "base_model.trainable = False"
   ]
  },
  {
   "cell_type": "code",
   "execution_count": 9,
   "metadata": {},
   "outputs": [],
   "source": [
    "# model = tf.keras.Sequential([\n",
    "#   base_model,\n",
    "#   tf.keras.layers.Conv2D(84, 3, activation='relu'),\n",
    "#   tf.keras.layers.Dropout(0.2),\n",
    "#   tf.keras.layers.GlobalAveragePooling2D(),\n",
    "#   tf.keras.layers.Dense(83, activation='softmax')\n",
    "# ])\n",
    "\n",
    "model = tf.keras.models.Sequential([\n",
    "        tf.keras.layers.Conv2D(64, (3,3), activation = 'relu', input_shape = (28, 28, 1)),\n",
    "        tf.keras.layers.MaxPooling2D(2,2),\n",
    "        tf.keras.layers.Conv2D(64, (3,3), activation = 'relu'),\n",
    "        tf.keras.layers.MaxPooling2D(2,2),\n",
    "        tf.keras.layers.Flatten(),\n",
    "        tf.keras.layers.Dense(128, activation = 'relu'),\n",
    "        tf.keras.layers.Dense(83, activation = 'softmax')\n",
    "    ])"
   ]
  },
  {
   "cell_type": "code",
   "execution_count": 10,
   "metadata": {},
   "outputs": [],
   "source": [
    "model.compile(optimizer=tf.keras.optimizers.Adam(), \n",
    "              loss='categorical_crossentropy', \n",
    "              metrics=['accuracy'])"
   ]
  },
  {
   "cell_type": "code",
   "execution_count": 11,
   "metadata": {},
   "outputs": [
    {
     "name": "stdout",
     "output_type": "stream",
     "text": [
      "Model: \"sequential\"\n",
      "_________________________________________________________________\n",
      "Layer (type)                 Output Shape              Param #   \n",
      "=================================================================\n",
      "conv2d (Conv2D)              (None, 26, 26, 64)        640       \n",
      "_________________________________________________________________\n",
      "max_pooling2d (MaxPooling2D) (None, 13, 13, 64)        0         \n",
      "_________________________________________________________________\n",
      "conv2d_1 (Conv2D)            (None, 11, 11, 64)        36928     \n",
      "_________________________________________________________________\n",
      "max_pooling2d_1 (MaxPooling2 (None, 5, 5, 64)          0         \n",
      "_________________________________________________________________\n",
      "flatten (Flatten)            (None, 1600)              0         \n",
      "_________________________________________________________________\n",
      "dense (Dense)                (None, 128)               204928    \n",
      "_________________________________________________________________\n",
      "dense_1 (Dense)              (None, 83)                10707     \n",
      "=================================================================\n",
      "Total params: 253,203\n",
      "Trainable params: 253,203\n",
      "Non-trainable params: 0\n",
      "_________________________________________________________________\n"
     ]
    }
   ],
   "source": [
    "model.summary()"
   ]
  },
  {
   "cell_type": "code",
   "execution_count": 12,
   "metadata": {},
   "outputs": [
    {
     "name": "stdout",
     "output_type": "stream",
     "text": [
      "Number of trainable variables = 8\n"
     ]
    }
   ],
   "source": [
    "print('Number of trainable variables = {}'.format(len(model.trainable_variables)))"
   ]
  },
  {
   "cell_type": "code",
   "execution_count": 20,
   "metadata": {
    "scrolled": true
   },
   "outputs": [
    {
     "data": {
      "text/plain": [
       "Text(0.5, 1.0, 'Training and Validation Accuracy')"
      ]
     },
     "execution_count": 20,
     "metadata": {},
     "output_type": "execute_result"
    },
    {
     "data": {
      "image/png": "[encoded data removed]",
      "text/plain": [
       "<Figure size 576x576 with 1 Axes>"
      ]
     },
     "metadata": {
      "needs_background": "light"
     },
     "output_type": "display_data"
    }
   ],
   "source": [
    "acc = history.history['accuracy']\n",
    "val_acc = history.history['val_accuracy']\n",
    "\n",
    "loss = history.history['loss']\n",
    "val_loss = history.history['val_loss']\n",
    "\n",
    "plt.figure(figsize=(8, 8))\n",
    "plt.subplot(2, 1, 1)\n",
    "plt.plot(acc, label='Training Accuracy')\n",
    "plt.plot(val_acc, label='Validation Accuracy')\n",
    "plt.legend(loc='lower right')\n",
    "plt.ylabel('Accuracy')\n",
    "plt.ylim([min(plt.ylim()),1])\n",
    "plt.title('Training and Validation Accuracy')"
   ]
  },
  {
   "cell_type": "code",
   "execution_count": 21,
   "metadata": {},
   "outputs": [],
   "source": [
    "base_model.trainable = True"
   ]
  },
  {
   "cell_type": "code",
   "execution_count": 22,
   "metadata": {},
   "outputs": [
    {
     "name": "stdout",
     "output_type": "stream",
     "text": [
      "Number of layers in the base model:  155\n"
     ]
    }
   ],
   "source": [
    "# Let's take a look to see how many layers are in the base model\n",
    "print(\"Number of layers in the base model: \", len(base_model.layers))\n",
    "\n",
    "# Fine tune from this layer onwards\n",
    "fine_tune_at = 100\n",
    "\n",
    "# Freeze all the layers before the `fine_tune_at` layer\n",
    "for layer in base_model.layers[:fine_tune_at]:\n",
    "  layer.trainable =  False"
   ]
  },
  {
   "cell_type": "code",
   "execution_count": 23,
   "metadata": {},
   "outputs": [],
   "source": [
    "model.compile(loss='categorical_crossentropy',\n",
    "              optimizer = tf.keras.optimizers.Adam(1e-5),\n",
    "              metrics=['accuracy'])"
   ]
  },
  {
   "cell_type": "code",
   "execution_count": 24,
   "metadata": {},
   "outputs": [
    {
     "name": "stdout",
     "output_type": "stream",
     "text": [
      "Model: \"sequential_1\"\n",
      "_________________________________________________________________\n",
      "Layer (type)                 Output Shape              Param #   \n",
      "=================================================================\n",
      "mobilenetv2_1.00_224 (Functi (None, 7, 7, 1280)        2257984   \n",
      "_________________________________________________________________\n",
      "conv2d_1 (Conv2D)            (None, 5, 5, 84)          967764    \n",
      "_________________________________________________________________\n",
      "dropout_1 (Dropout)          (None, 5, 5, 84)          0         \n",
      "_________________________________________________________________\n",
      "global_average_pooling2d_1 ( (None, 84)                0         \n",
      "_________________________________________________________________\n",
      "dense_1 (Dense)              (None, 84)                7140      \n",
      "=================================================================\n",
      "Total params: 3,232,888\n",
      "Trainable params: 2,837,496\n",
      "Non-trainable params: 395,392\n",
      "_________________________________________________________________\n"
     ]
    }
   ],
   "source": [
    "model.summary()"
   ]
  },
  {
   "cell_type": "code",
   "execution_count": 25,
   "metadata": {},
   "outputs": [
    {
     "name": "stdout",
     "output_type": "stream",
     "text": [
      "Number of trainable variables = 60\n"
     ]
    }
   ],
   "source": [
    "print('Number of trainable variables = {}'.format(len(model.trainable_variables)))"
   ]
  },
  {
   "cell_type": "code",
   "execution_count": 26,
   "metadata": {},
   "outputs": [
    {
     "name": "stdout",
     "output_type": "stream",
     "text": [
      "Epoch 1/20\n",
      "675/675 [==============================] - 2992s 4s/step - loss: 1.6490 - accuracy: 0.6127 - val_loss: 1.5383 - val_accuracy: 0.6705\n",
      "Epoch 2/20\n",
      "675/675 [==============================] - 3005s 4s/step - loss: 1.2650 - accuracy: 0.6711 - val_loss: 1.4304 - val_accuracy: 0.6805\n",
      "Epoch 3/20\n",
      "675/675 [==============================] - 3047s 5s/step - loss: 1.1271 - accuracy: 0.7039 - val_loss: 1.3790 - val_accuracy: 0.6839\n",
      "Epoch 4/20\n",
      "675/675 [==============================] - 3050s 5s/step - loss: 1.0743 - accuracy: 0.7151 - val_loss: 1.3180 - val_accuracy: 0.6990\n",
      "Epoch 5/20\n",
      "675/675 [==============================] - 3070s 5s/step - loss: 0.9958 - accuracy: 0.7373 - val_loss: 1.2929 - val_accuracy: 0.6974\n",
      "Epoch 6/20\n",
      "675/675 [==============================] - 3060s 5s/step - loss: 0.9599 - accuracy: 0.7414 - val_loss: 1.2337 - val_accuracy: 0.7120\n",
      "Epoch 7/20\n",
      "675/675 [==============================] - 3060s 5s/step - loss: 0.8892 - accuracy: 0.7595 - val_loss: 1.2534 - val_accuracy: 0.7076\n",
      "Epoch 8/20\n",
      "675/675 [==============================] - 3052s 5s/step - loss: 0.8732 - accuracy: 0.7636 - val_loss: 1.2085 - val_accuracy: 0.7104\n",
      "Epoch 9/20\n",
      "675/675 [==============================] - 3047s 5s/step - loss: 0.8468 - accuracy: 0.7695 - val_loss: 1.1888 - val_accuracy: 0.7284\n",
      "Epoch 10/20\n",
      "675/675 [==============================] - 3053s 5s/step - loss: 0.8057 - accuracy: 0.7805 - val_loss: 1.2084 - val_accuracy: 0.7230\n",
      "Epoch 11/20\n",
      "675/675 [==============================] - 3145s 5s/step - loss: 0.7741 - accuracy: 0.7855 - val_loss: 1.1930 - val_accuracy: 0.7335\n",
      "Epoch 12/20\n",
      "675/675 [==============================] - 2938s 4s/step - loss: 0.7565 - accuracy: 0.7940 - val_loss: 1.1526 - val_accuracy: 0.7345\n",
      "Epoch 13/20\n",
      "675/675 [==============================] - 2978s 4s/step - loss: 0.7365 - accuracy: 0.7959 - val_loss: 1.1817 - val_accuracy: 0.7331\n",
      "Epoch 14/20\n",
      "675/675 [==============================] - 2973s 4s/step - loss: 0.7041 - accuracy: 0.8057 - val_loss: 1.1637 - val_accuracy: 0.7475\n",
      "Epoch 15/20\n",
      "675/675 [==============================] - 2998s 4s/step - loss: 0.6908 - accuracy: 0.8051 - val_loss: 1.1574 - val_accuracy: 0.7343\n",
      "Epoch 16/20\n",
      "675/675 [==============================] - 3044s 5s/step - loss: 0.6598 - accuracy: 0.8158 - val_loss: 1.1548 - val_accuracy: 0.7387\n",
      "Epoch 17/20\n",
      "675/675 [==============================] - 2975s 4s/step - loss: 0.6520 - accuracy: 0.8193 - val_loss: 1.1450 - val_accuracy: 0.7431\n",
      "Epoch 18/20\n",
      "675/675 [==============================] - 2967s 4s/step - loss: 0.6366 - accuracy: 0.8212 - val_loss: 1.1357 - val_accuracy: 0.7439\n",
      "Epoch 19/20\n",
      "675/675 [==============================] - 3003s 4s/step - loss: 0.6189 - accuracy: 0.8241 - val_loss: 1.1148 - val_accuracy: 0.7419\n",
      "Epoch 20/20\n",
      "675/675 [==============================] - 3139s 5s/step - loss: 0.6142 - accuracy: 0.8285 - val_loss: 1.1490 - val_accuracy: 0.7429\n"
     ]
    }
   ],
   "source": [
    "history_fine = model.fit(train_generator, \n",
    "                         steps_per_epoch=len(train_generator), \n",
    "                         epochs=20, \n",
    "                         validation_data=val_generator, \n",
    "                         validation_steps=len(val_generator))"
   ]
  },
  {
   "cell_type": "code",
   "execution_count": 27,
   "metadata": {},
   "outputs": [
    {
     "name": "stdout",
     "output_type": "stream",
     "text": [
      "WARNING:tensorflow:From c:\\python\\python38\\lib\\site-packages\\tensorflow\\python\\training\\tracking\\tracking.py:111: Model.state_updates (from tensorflow.python.keras.engine.training) is deprecated and will be removed in a future version.\n",
      "Instructions for updating:\n",
      "This property should not be used in TensorFlow 2.0, as updates are applied automatically.\n",
      "WARNING:tensorflow:From c:\\python\\python38\\lib\\site-packages\\tensorflow\\python\\training\\tracking\\tracking.py:111: Layer.updates (from tensorflow.python.keras.engine.base_layer) is deprecated and will be removed in a future version.\n",
      "Instructions for updating:\n",
      "This property should not be used in TensorFlow 2.0, as updates are applied automatically.\n",
      "INFO:tensorflow:Assets written to: save/fine_tuning\\assets\n"
     ]
    }
   ],
   "source": [
    "saved_model_dir = 'save/fine_tuning'\n",
    "tf.saved_model.save(model, saved_model_dir)\n",
    "\n",
    "converter = tf.lite.TFLiteConverter.from_saved_model(saved_model_dir)\n",
    "tflite_model = converter.convert()\n",
    "\n",
    "with open('model.tflite', 'wb') as f:\n",
    "  f.write(tflite_model)"
   ]
  },
  {
   "cell_type": "code",
   "execution_count": null,
   "metadata": {},
   "outputs": [],
   "source": [
    " # Randomly testing an image from the test set\n",
    "import matplotlib.image as mpimg\n",
    "from PIL import Image\n",
    "from tensorflow.keras.applications.mobilenet_v2 import MobileNetV2, preprocess_input, decode_predictions\n",
    "imageno=np.random.random_integers(low=0, high=val_generator.samples)\n",
    "\n",
    "name = val_generator.filepaths[imageno]\n",
    "#name = \"C:/Users/Rajat  Dungarwal/Desktop/Project/flower_photos1/cricket bat/bbb.jpeg\"\n",
    "print(name)\n",
    "plt.imshow(mpimg.imread(name))\n",
    "\n",
    "img = Image.open(val_generator.filepaths[imageno]).resize((224, 224))\n",
    "probabilities = model.predict(preprocess_input(np.expand_dims(img, axis=0)))\n",
    "breed_list = tuple(zip(val_generator.class_indices.values(), val_generator.class_indices.keys()))\n",
    "\n",
    "for i in probabilities[0].argsort()[-5:][::-1]: \n",
    "    print(probabilities[0][i], \"  :  \" , breed_list[i])"
   ]
  },
  {
   "cell_type": "code",
   "execution_count": 30,
   "metadata": {},
   "outputs": [
    {
     "name": "stdout",
     "output_type": "stream",
     "text": [
      "INFO:tensorflow:Assets written to: api\\assets\n"
     ]
    },
    {
     "name": "stderr",
     "output_type": "stream",
     "text": [
      "INFO:tensorflow:Assets written to: api\\assets\n"
     ]
    }
   ],
   "source": [
    "model.save(\"api\")"
   ]
  },
  {
   "cell_type": "code",
   "execution_count": 31,
   "metadata": {},
   "outputs": [],
   "source": [
    "new_model = tf.keras.models.load_model(\"api\")"
   ]
  },
  {
   "cell_type": "code",
   "execution_count": 32,
   "metadata": {},
   "outputs": [
    {
     "name": "stdout",
     "output_type": "stream",
     "text": [
      "Model: \"sequential_1\"\n",
      "_________________________________________________________________\n",
      "Layer (type)                 Output Shape              Param #   \n",
      "=================================================================\n",
      "mobilenetv2_1.00_224 (Functi (None, 7, 7, 1280)        2257984   \n",
      "_________________________________________________________________\n",
      "conv2d_1 (Conv2D)            (None, 5, 5, 84)          967764    \n",
      "_________________________________________________________________\n",
      "dropout_1 (Dropout)          (None, 5, 5, 84)          0         \n",
      "_________________________________________________________________\n",
      "global_average_pooling2d_1 ( (None, 84)                0         \n",
      "_________________________________________________________________\n",
      "dense_1 (Dense)              (None, 84)                7140      \n",
      "=================================================================\n",
      "Total params: 3,232,888\n",
      "Trainable params: 3,198,776\n",
      "Non-trainable params: 34,112\n",
      "_________________________________________________________________\n"
     ]
    }
   ],
   "source": [
    "new_model.summary()"
   ]
  },
  {
   "cell_type": "code",
   "execution_count": 33,
   "metadata": {},
   "outputs": [],
   "source": [
    "import tensorflow as tf\n",
    "\n",
    "# Convert the model\n",
    "converter = tf.lite.TFLiteConverter.from_saved_model(\"api\") # path to the SavedModel directory\n",
    "tflite_model = converter.convert()\n",
    "\n",
    "# Save the model.\n",
    "with open('model.tflite', 'wb') as f:\n",
    "  f.write(tflite_model)"
   ]
  },
  {
   "cell_type": "code",
   "execution_count": null,
   "metadata": {},
   "outputs": [],
   "source": []
  }
 ],
 "metadata": {
  "kernelspec": {
   "display_name": "Python 3",
   "language": "python",
   "name": "python3"
  },
  "language_info": {
   "codemirror_mode": {
    "name": "ipython",
    "version": 3
   },
   "file_extension": ".py",
   "mimetype": "text/x-python",
   "name": "python",
   "nbconvert_exporter": "python",
   "pygments_lexer": "ipython3",
   "version": "3.8.0"
  }
 },
 "nbformat": 4,
 "nbformat_minor": 4
}
